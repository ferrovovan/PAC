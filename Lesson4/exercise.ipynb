{
 "cells": [
  {
   "cell_type": "code",
   "execution_count": 9,
   "id": "ef21d47f",
   "metadata": {},
   "outputs": [],
   "source": [
    "import numpy as np"
   ]
  },
  {
   "cell_type": "code",
   "execution_count": 10,
   "id": "ebde6917-dc22-4d0d-82a9-57ee57bd2265",
   "metadata": {},
   "outputs": [
    {
     "name": "stdout",
     "output_type": "stream",
     "text": [
      "Изначальный массив: [ -6  -1   4  -1   2   1   0   8  -2   1  -3   0  -2   2 -10   2  -5  -1\n",
      " -10   1   4  -9   2  -4  -3  -6  -3   4   5  -1  -5  -3  -5   1   1   0\n",
      "   9   6   0  -8   2   1  -6   9   6  -5   5  -1   5  -9   4  -5  -7  -2\n",
      "  -2   5  -7   2   3  -3   7   9  -7  -7   7  -9  -3   6   2  -1   7  -1\n",
      "  -2   5   9  -5  -5  -7   6  -1   8   4  -5  -2   8  -8   3   2  -2   3\n",
      "  -1  -3   2  -9   2   9  -8   9   5  -5]\n",
      "Отсортированный массив по частоте: [ -4 -10 -10  -8  -8  -8  -6  -6  -6   3   3   3   7   7   7   8   8   8\n",
      "  -9  -9  -9  -9   0   0   0   0   6   6   6   6  -7  -7  -7  -7  -7   4\n",
      "   4   4   4   4   1   1   1   1   1   1   5   5   5   5   5   5   9   9\n",
      "   9   9   9   9  -3  -3  -3  -3  -3  -3  -3  -2  -2  -2  -2  -2  -2  -2\n",
      "  -5  -5  -5  -5  -5  -5  -5  -5  -5  -1  -1  -1  -1  -1  -1  -1  -1  -1\n",
      "   2   2   2   2   2   2   2   2   2   2]\n"
     ]
    }
   ],
   "source": [
    "# Задача 1\n",
    "from collections import Counter\n",
    "\n",
    "def sort_by_frequency(arr):\n",
    "    count = Counter(arr) # Считаем частоту встречания элементов\n",
    "    # Сортируем по частоте, затем по значению\n",
    "    sorted_arr = sorted(arr, key=lambda x: (count[x], x))\n",
    "\n",
    "    return np.array(sorted_arr)\n",
    "\n",
    "\n",
    "arr = np.random.randint(-10, 10, size=(int(1e2)))\n",
    "print(\"Изначальный массив:\", arr)\n",
    "sorted_arr = sort_by_frequency(arr)\n",
    "print(\"Отсортированный массив по частоте:\", sorted_arr)\n"
   ]
  },
  {
   "cell_type": "code",
   "execution_count": 14,
   "id": "f2a38513-f3f0-4603-8745-3fa0b700b866",
   "metadata": {},
   "outputs": [
    {
     "name": "stdout",
     "output_type": "stream",
     "text": [
      "(326, 269, 4)\n",
      "Количество уникальных цветов: 1406\n"
     ]
    },
    {
     "name": "stderr",
     "output_type": "stream",
     "text": [
      "Error: no DISPLAY environment variable specified\n"
     ]
    }
   ],
   "source": [
    "# Задача 2\n",
    "from PIL import Image\n",
    "def count_unique_colors(image) -> int:\n",
    "    unique_colors = np.unique(\n",
    "        image.reshape(-1, image.shape[2]), # каждая строка это 1 пиксель\n",
    "        axis=0 # поиск уникальных строк по строкам\n",
    "    ) # возвратит только уникальные пиксели\n",
    "    \"\"\"\n",
    "    Например print(unique_colors[0:4]):\n",
    "    [[  0   0   0   1]\n",
    "     [  0   0 255   1]\n",
    "     [  0 128 128   2]\n",
    "     [  0 255 255   1]]\n",
    "    \"\"\"\n",
    "    return unique_colors.shape[0]\n",
    "\n",
    "\n",
    "image_path = './python-logo-only.png'\n",
    "image = Image.open(image_path)\n",
    "\n",
    "image_array = np.array(image, dtype=np.uint8)\n",
    "print(image_array.shape)\n",
    "\n",
    "num_unique_colors = count_unique_colors(image_array)\n",
    "print(\"Количество уникальных цветов:\", num_unique_colors)\n",
    "image.show()\n"
   ]
  },
  {
   "cell_type": "code",
   "execution_count": 15,
   "id": "95c13e28",
   "metadata": {},
   "outputs": [],
   "source": [
    "# Подсчёт времени выполнения\n",
    "import time\n",
    "\n",
    "\n",
    "def measure_time(func, *args):\n",
    "    start = time.time()\n",
    "    result = func(*args)\n",
    "    elapsed_time = time.time() - start\n",
    "    print(f'cur time = {elapsed_time}')\n",
    "    return result"
   ]
  },
  {
   "cell_type": "code",
   "execution_count": 18,
   "id": "fc118cd2-48f6-497b-9349-ce603e62b7cf",
   "metadata": {},
   "outputs": [
    {
     "name": "stdout",
     "output_type": "stream",
     "text": [
      "cur time = 0.00014352798461914062\n",
      "Плавающее среднее cumsum: [2. 3. 4.]\n",
      "cur time = 0.0001430511474609375\n",
      "Плавающее среднее convolution: [2. 3. 4.]\n"
     ]
    }
   ],
   "source": [
    "# Задача 3\n",
    "def moving_average_cumsum(vector, window_size):\n",
    "    \"\"\"Через кумулятивную сумму\"\"\"\n",
    "    if window_size <= 0 or window_size > len(vector):\n",
    "        raise ValueError(\"Размер окна должен быть положительным и меньше или равным длине вектора.\")\n",
    "    \n",
    "    cumsum = np.cumsum(vector)  # Кусочная сумма\n",
    "    cumsum[window_size:] = cumsum[window_size:] - cumsum[:-window_size]  # Вычитание старых значений\n",
    "    return cumsum[window_size - 1:] / window_size  # Возвращаем средние значения\n",
    "\n",
    "\n",
    "def moving_average_convolution(vector, window_size):\n",
    "    \"\"\"Через свёртку\"\"\"\n",
    "    if window_size <= 0 or window_size > len(vector):\n",
    "        raise ValueError(\"Размер окна должен быть положительным и меньше или равным длине вектора.\")\n",
    "    \n",
    "    return np.convolve(vector, np.ones(window_size) / window_size, mode='valid')\n",
    "    # 'full': максимальное перекрытие;\n",
    "    # 'same': результат того же размера, что и входной вектор;\n",
    "    # 'valid': минимальное перекрытие, выводятся только \"полные\" свёртки.\n",
    "\n",
    "# Пример использования\n",
    "vector = np.array([1, 2, 3, 4, 5]) # np.arange(1, 5, 1)\n",
    "#vector = np.arange(1, int(1e9), 2)\n",
    "window_size = 3\n",
    "\n",
    "\n",
    "ma = measure_time(moving_average_cumsum, vector, window_size)\n",
    "print(\"Плавающее среднее cumsum:\", ma)\n",
    "\n",
    "ma = measure_time(moving_average_convolution, vector, window_size)\n",
    "print(\"Плавающее среднее convolution:\", ma)"
   ]
  },
  {
   "cell_type": "code",
   "execution_count": 20,
   "id": "787b1b94-d098-4f7d-b2f8-92469a425a72",
   "metadata": {},
   "outputs": [
    {
     "name": "stdout",
     "output_type": "stream",
     "text": [
      "Тройки чисел, которые являются длинами сторон треугольника:\n",
      " [[3 4 5]\n",
      " [5 5 5]]\n"
     ]
    }
   ],
   "source": [
    "# Задача 4\n",
    "import numpy as np\n",
    "\n",
    "def valid_triangles(triplets) -> np.array:\n",
    "    # triplets[:, 0] извлекает все значения из первого столбца массива triplets.\n",
    "    # : (двоеточие) в индексации означает выбор всех строк.\n",
    "    condition1 = triplets[:, 0] + triplets[:, 1] > triplets[:, 2]\n",
    "    condition2 = triplets[:, 0] + triplets[:, 2] > triplets[:, 1]\n",
    "    condition3 = triplets[:, 1] + triplets[:, 2] > triplets[:, 0]\n",
    "    \"\"\"\n",
    "    condition1, condition2, condition3 — это логические массивы,\n",
    "        которые содержат результат поэлементного сравнения.\n",
    "    Каждый элемент этих массивов является булевым значением (True или False),\n",
    "        в зависимости от того,\n",
    "        выполнено условие для соответствующих элементов исходного массива или нет.\n",
    "    \"\"\"\n",
    "    valid_mask = condition1 & condition2 & condition3\n",
    "\n",
    "    return triplets[valid_mask]\n",
    "\n",
    "# Пример\n",
    "triplets = np.array([[3, 4, 5],\n",
    "                     [1, 2, 3],\n",
    "                     [5, 5, 5],\n",
    "                     [1, 10, 12]])\n",
    "\n",
    "valid_triplets = valid_triangles(triplets)\n",
    "print(\"Тройки чисел, которые являются длинами сторон треугольника:\\n\", valid_triplets)\n"
   ]
  },
  {
   "cell_type": "code",
   "execution_count": 22,
   "id": "48094164-9fef-4899-99af-31960894e564",
   "metadata": {},
   "outputs": [
    {
     "name": "stdout",
     "output_type": "stream",
     "text": [
      "cur time = 0.008718013763427734\n",
      "solve:, [3. 1. 2.]\n",
      "cur time = 0.0007579326629638672\n",
      "solve:, [ 6. -1. -1.]\n"
     ]
    }
   ],
   "source": [
    "# Задача 5\n",
    "def solve_linear_system(A, b):\n",
    "    # Методом Гаусса\n",
    "    n = A.shape[0]\n",
    "\n",
    "    augmented_matrix = np.hstack([A, b.reshape(-1, 1)])\n",
    "    \n",
    "    # приведение к треугольному виду\n",
    "    for i in range(n):\n",
    "        # Нормализация ведущего (не нулевого) элемента\n",
    "        augmented_matrix[i] = augmented_matrix[i] / augmented_matrix[i, i]\n",
    "        \n",
    "        for j in range(i + 1, n):\n",
    "            augmented_matrix[j] -= augmented_matrix[i] * augmented_matrix[j, i]\n",
    "\n",
    "    # Обратная подстановка\n",
    "    x = np.zeros(n)\n",
    "    for i in range( n - 1, -1, -1):\n",
    "        # augmented_matrix[i, -1] - значение в правой части (b)\n",
    "        # np.dot(augmented_matrix[i, i + 1:n], x[i + 1:n]) - подстановка найденных корней\n",
    "        x[i] = augmented_matrix[i, -1] - np.dot(augmented_matrix[i, i + 1:n], x[i + 1:n])\n",
    "        \n",
    "    return x\n",
    "\n",
    "def solve(A, b):\n",
    "    A_inv = np.linalg.inv(A)\n",
    "    result = A_inv @ b\n",
    "    return result\n",
    "\"\"\"\n",
    "def solve_linear_system2(A, b):\n",
    "    # Размерность матрицы\n",
    "    n = A.shape[0]\n",
    "    \n",
    "    # Создаем расширенную матрицу\n",
    "    augmented_matrix = np.hstack([A, b.reshape(-1, 1)]).astype(float)\n",
    "\n",
    "    # Прямой ход методом Гаусса (векторизация вместо цикла)\n",
    "    for i in range(n):\n",
    "        # Нормализуем текущую строку (делим на ведущий элемент)\n",
    "        augmented_matrix[i] = augmented_matrix[i] / augmented_matrix[i, i]\n",
    "\n",
    "        # Вычитаем текущую строку из всех нижележащих строк\n",
    "        mask = np.eye(n, dtype=bool)  # Создаем маску единичной матрицы\n",
    "        mask[i, :] = False  # Исключаем текущую строку\n",
    "        augmented_matrix[~mask[:, i]] -= np.outer(augmented_matrix[~mask[:, i], i], augmented_matrix[i])\n",
    "\n",
    "    # Обратная подстановка (тоже векторизованно)\n",
    "    x = np.zeros(n)\n",
    "    for i in range(n - 1, -1, -1):\n",
    "        x[i] = augmented_matrix[i, -1] - np.dot(augmented_matrix[i, i + 1:n], x[i + 1:n])\n",
    "\n",
    "    return x\n",
    "\"\"\"\n",
    "\n",
    "\n",
    "A = np.array([[3, 4, 2],\n",
    "              [5, 2, 3],\n",
    "              [4, 3, 2]])\n",
    "b = np.array([17, 23, 19])\n",
    "\n",
    "\n",
    "ma = measure_time(solve, A, b)\n",
    "print(f\"solve: {ma}\")\n",
    "\n",
    "ma = measure_time(solve_linear_system, A, b)\n",
    "print(f\"solve_linear_system: {ma}\")\n",
    "#solution = solve_linear_system(A, b)\n",
    "#print(\"Решение системы линейных уравнений:\", solution)\n"
   ]
  },
  {
   "cell_type": "code",
   "execution_count": 23,
   "id": "f2c8a652-03b4-419c-881f-eb138b59a3cb",
   "metadata": {},
   "outputs": [
    {
     "name": "stdout",
     "output_type": "stream",
     "text": [
      "U:\n",
      " [[-0.70710678  0.         -0.70710678]\n",
      " [ 0.          1.          0.        ]\n",
      " [-0.70710678  0.          0.70710678]]\n",
      "S:\n",
      " [2. 1. 0.]\n",
      "Vt:\n",
      " [[-0.70710678  0.         -0.70710678]\n",
      " [ 0.          1.          0.        ]\n",
      " [ 0.70710678  0.         -0.70710678]]\n"
     ]
    }
   ],
   "source": [
    "# Задача 6\n",
    "\n",
    "\n",
    "\"\"\"\n",
    "Если A — матрица размером m×n, то сингулярное разложение представляется следующим образом:\n",
    "    A = U*Σ* Vt\n",
    "\n",
    "U — матрица размером m×m,\n",
    "    содержащая левые сингулярные векторы\n",
    "    (столбцы матрицы U образуют ортонормированный базис для пространства столбцов матрицы A).\n",
    "Σ — диагональная матрица размером m×n,\n",
    "    содержащая неотрицательные числа, называемые сингулярными числами.\n",
    "    Эти числа являются квадратными корнями из собственных значений матрицы At * A.\n",
    "Vt — транспонированная матрица размером n×n,\n",
    "    содержащая правые сингулярные векторы\n",
    "    (строки матрицы Vt образуют ортонормированный базис для пространства строк матрицы A).\n",
    "\n",
    "Свойства:\n",
    "    1) Сингулярные числа: Элементы диагонали матрицы Σ называются сингулярными числами матрицы A.\n",
    "    Они отсортированы по убыванию и отражают \"влияние\" соответствующих сингулярных векторов на исходную матрицу.\n",
    "    \n",
    "    2) Ортонормированность: Столбцы матриц U и V являются ортонормированными векторами. \n",
    "    Это означает, что каждая пара столбцов из U или V ортогональна и имеет длину 1.\n",
    "    \n",
    "    3)Ранг матрицы: Ранг матрицы A равен количеству ненулевых сингулярных чисел.\n",
    "\n",
    "Применения\n",
    "\n",
    "1) Решение систем линейных уравнений:\n",
    "    SVD можно использовать для нахождения наилучших приближений для переопределённых систем уравнений.\n",
    "\n",
    "2) Сжатие изображений:\n",
    "    Используя только первые k сингулярных чисел и соответствующие векторы, можно получить приближенную матрицу,\n",
    "    что позволяет эффективно сжимать изображения.\n",
    "\n",
    "3) Анализ главных компонент (PCA):\n",
    "    SVD лежит в основе метода PCA, который используется для снижения размерности данных.\n",
    "\"\"\"\n",
    "\n",
    "A = np.matrix(\"1 0 1; 0 1 0; 1 0 1\")\n",
    "# singular value decomposition\n",
    "U, S, Vt = np.linalg.svd(A)\n",
    "\n",
    "print(\"U:\\n\", U)\n",
    "print(\"S:\\n\", S)\n",
    "print(\"Vt:\\n\", Vt)\n"
   ]
  },
  {
   "cell_type": "code",
   "execution_count": null,
   "id": "28cdd619",
   "metadata": {},
   "outputs": [],
   "source": []
  }
 ],
 "metadata": {
  "kernelspec": {
   "display_name": "Python 3 (ipykernel)",
   "language": "python",
   "name": "python3"
  },
  "language_info": {
   "codemirror_mode": {
    "name": "ipython",
    "version": 3
   },
   "file_extension": ".py",
   "mimetype": "text/x-python",
   "name": "python",
   "nbconvert_exporter": "python",
   "pygments_lexer": "ipython3",
   "version": "3.11.2"
  }
 },
 "nbformat": 4,
 "nbformat_minor": 5
}
