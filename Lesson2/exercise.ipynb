{
 "cells": [
  {
   "cell_type": "code",
   "execution_count": 3,
   "id": "ebde6917-dc22-4d0d-82a9-57ee57bd2265",
   "metadata": {},
   "outputs": [
    {
     "name": "stdin",
     "output_type": "stream",
     "text": [
      " фииф\n"
     ]
    },
    {
     "name": "stdout",
     "output_type": "stream",
     "text": [
      "Строка фииф является палиндром.\n"
     ]
    }
   ],
   "source": [
    "# Задача 1\n",
    "string = input()\n",
    "str_len = len(string)\n",
    "\n",
    "is_palindrome = True\n",
    "for i in range(\n",
    "    str_len // 2\n",
    "):\n",
    "    if string[i] != string[-i -1]:\n",
    "        is_palindrome = False\n",
    "        break\n",
    "\n",
    "answer = \"является\" if is_palindrome else \"не является\"\n",
    "print(f\"Строка {string} {answer} палиндром.\")"
   ]
  },
  {
   "cell_type": "code",
   "execution_count": 2,
   "id": "f8054a93-0f81-4e35-a3b1-07aeab64faac",
   "metadata": {},
   "outputs": [
    {
     "name": "stdin",
     "output_type": "stream",
     "text": [
      " 1\n"
     ]
    },
    {
     "name": "stdout",
     "output_type": "stream",
     "text": [
      "Самое длинное слово: 1\n"
     ]
    }
   ],
   "source": [
    "# Задача 2\n",
    "string = input()\n",
    "words = string.split(' ')\n",
    "long_word = ''\n",
    "\n",
    "for word in words:\n",
    "    if len(word) > len(long_word):\n",
    "        long_word = word\n",
    "\n",
    "print(f\"Самое длинное слово: {long_word}\")"
   ]
  },
  {
   "cell_type": "code",
   "execution_count": 25,
   "id": "fc118cd2-48f6-497b-9349-ce603e62b7cf",
   "metadata": {},
   "outputs": [
    {
     "name": "stdout",
     "output_type": "stream",
     "text": [
      "В списке [4, 2555610, 9517183, 1466, 669100863]: \n",
      "2 нечётных чисел\n",
      "3 чётных чисел\n"
     ]
    }
   ],
   "source": [
    "# Задача 3\n",
    "import random\n",
    "\n",
    "\n",
    "def get_random_number() -> int:\n",
    "    rank: int = random.randint(1, 10)\n",
    "    return int(random.random() * (10 ** rank))\n",
    "\n",
    "list_len = 5\n",
    "random_numbers_list = [get_random_number() for _ in range(list_len)]\n",
    "odd_numbers_count = len( [i for i in random_numbers_list if i % 2 == 1] )\n",
    "even_numbers_count = list_len - odd_numbers_count\n",
    "\n",
    "\n",
    "print(f\"В списке {random_numbers_list}: \")\n",
    "print(f\"{odd_numbers_count} нечётных чисел\")\n",
    "print(f\"{even_numbers_count} чётных чисел\")"
   ]
  },
  {
   "cell_type": "code",
   "execution_count": 2,
   "id": "787b1b94-d098-4f7d-b2f8-92469a425a72",
   "metadata": {},
   "outputs": [
    {
     "name": "stdin",
     "output_type": "stream",
     "text": [
      " making a mother of all omeletes here Jack. Can't fret every egg!\n"
     ]
    },
    {
     "name": "stdout",
     "output_type": "stream",
     "text": [
      "Выходная строка:\n",
      "  making  a  mother  of  all  omeletes  here  Jack.  Can't  fret  every  egg!"
     ]
    }
   ],
   "source": [
    "# Задача 4\n",
    "\n",
    "sinonims = {\n",
    "    'Happy': 'Joyful',\n",
    "    'Fast': 'Quick',\n",
    "    'Smart': 'Bright',\n",
    "    'Beautiful': 'Attractive',\n",
    "    'Big': 'Massive'\n",
    "}\n",
    "\n",
    "string = input()\n",
    "\n",
    "print('Выходная строка:') \n",
    "for word in string.split(' '):\n",
    "    if word in sinonims.keys():\n",
    "        print(' ', sinonims[word], end='')\n",
    "    else:\n",
    "        print(' ', word, end='')\n"
   ]
  },
  {
   "cell_type": "code",
   "execution_count": 10,
   "id": "48094164-9fef-4899-99af-31960894e564",
   "metadata": {},
   "outputs": [
    {
     "name": "stdin",
     "output_type": "stream",
     "text": [
      " 16\n"
     ]
    },
    {
     "name": "stdout",
     "output_type": "stream",
     "text": [
      "[0, 1, 1, 2, 3, 5, 8, 13, 21, 34, 55, 89, 144, 233, 377, 610]\n"
     ]
    }
   ],
   "source": [
    "# Задача 5\n",
    "\n",
    "from functools import lru_cache\n",
    "\n",
    "n = int(input())\n",
    "#использование стандартного модуля functools\n",
    "@lru_cache(maxsize=None)\n",
    "def fib(n):\n",
    "    if n < 2:\n",
    "        return n\n",
    "    return fib(n-1) + fib(n-2)\n",
    "\n",
    "print([fib(i) for i in range(n)])\n",
    "#print(f'cache_info: \\n{fib.cache_info()}')"
   ]
  },
  {
   "cell_type": "code",
   "execution_count": 7,
   "id": "f2c8a652-03b4-419c-881f-eb138b59a3cb",
   "metadata": {},
   "outputs": [
    {
     "name": "stdout",
     "output_type": "stream",
     "text": [
      "Количество строк: 437 \n",
      "Количество слов: 2230\n",
      "Количество букв: 1659\n"
     ]
    }
   ],
   "source": [
    "# Задача 6\n",
    "\n",
    "in_filename = '/home/vovan/commands_help.txt'\n",
    "count_strings = 0\n",
    "count_words = 0\n",
    "count_symbols = 0\n",
    "with open(in_filename, mode='r') as in_file:\n",
    "    for string in in_file.readlines():\n",
    "        count_strings += 1\n",
    "\n",
    "        words = string.split(' ')\n",
    "        count_words += len(words)\n",
    "        \n",
    "        for word in words:\n",
    "            for symb in word.split():\n",
    "                if not symb.isdigit():\n",
    "                    count_symbols += 1\n",
    "\n",
    "print(f\"Количество строк: {count_strings} \\nКоличество слов: {count_words}\\nКоличество букв: {count_symbols}\")"
   ]
  },
  {
   "cell_type": "code",
   "execution_count": 16,
   "id": "623c404e-67fe-4b1a-a16f-9da7d5ac43ae",
   "metadata": {},
   "outputs": [
    {
     "name": "stdout",
     "output_type": "stream",
     "text": [
      "2\n",
      "6\n",
      "18\n",
      "54\n",
      "162\n",
      "486\n",
      "1458\n",
      "4374\n",
      "13122\n",
      "39366\n"
     ]
    }
   ],
   "source": [
    "# Задача 7\n",
    "\n",
    "first_term = 2 # Первый член\n",
    "ratio = 3 # Множитель\n",
    "amount = 10 # Количество первых членов прогрессии\n",
    "\n",
    "def geometric_progression():\n",
    "    current_term = first_term\n",
    "    while True:\n",
    "        yield current_term\n",
    "        current_term *= ratio\n",
    "\n",
    "\n",
    "gp_gen = geometric_progression()\n",
    "\n",
    "for _ in range(amount):\n",
    "    print(next(gp_gen))\n"
   ]
  }
 ],
 "metadata": {
  "kernelspec": {
   "display_name": "Python 3 (ipykernel)",
   "language": "python",
   "name": "python3"
  },
  "language_info": {
   "codemirror_mode": {
    "name": "ipython",
    "version": 3
   },
   "file_extension": ".py",
   "mimetype": "text/x-python",
   "name": "python",
   "nbconvert_exporter": "python",
   "pygments_lexer": "ipython3",
   "version": "3.10.12"
  }
 },
 "nbformat": 4,
 "nbformat_minor": 5
}
