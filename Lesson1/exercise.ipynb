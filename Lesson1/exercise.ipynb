{
 "cells": [
  {
   "cell_type": "code",
   "execution_count": 9,
   "id": "ebde6917-dc22-4d0d-82a9-57ee57bd2265",
   "metadata": {},
   "outputs": [
    {
     "name": "stdout",
     "output_type": "stream",
     "text": [
      "Случайное число 129 имеет сумму цифр 11\n"
     ]
    }
   ],
   "source": [
    "# Задача 1\n",
    "import random\n",
    "\n",
    "N: int = random.randint(100, 999)\n",
    "\n",
    "digit_1 = int( N % 10 )\n",
    "digit_2 = int((N / 100) % 10)\n",
    "digit_3 = int( N / 100)\n",
    "N_sum = sum([digit_1, digit_2, digit_3])\n",
    "\n",
    "print(f\"Случайное число {N} имеет сумму цифр {N_sum}\")"
   ]
  },
  {
   "cell_type": "code",
   "execution_count": 17,
   "id": "f2a38513-f3f0-4603-8745-3fa0b700b866",
   "metadata": {},
   "outputs": [
    {
     "name": "stdout",
     "output_type": "stream",
     "text": [
      "Случайное число 60795283 имеет сумму цифр 40\n"
     ]
    }
   ],
   "source": [
    "# Задача 2\n",
    "import random\n",
    "\n",
    "rank: int = random.randint(1, 10)\n",
    "N: int = int(random.random() * (10 ** rank))\n",
    "\n",
    "total: int = 0\n",
    "for i in range(rank):\n",
    "    digit = int((N / (10 ** i)) % 10)\n",
    "    total += digit\n",
    "\n",
    "print(f\"Случайное число {N} имеет сумму цифр {total}\")"
   ]
  },
  {
   "cell_type": "code",
   "execution_count": 22,
   "id": "fc118cd2-48f6-497b-9349-ce603e62b7cf",
   "metadata": {},
   "outputs": [
    {
     "name": "stdin",
     "output_type": "stream",
     "text": [
      " 123\n"
     ]
    },
    {
     "name": "stdout",
     "output_type": "stream",
     "text": [
      "Сфера радиусом 123.0 обладает:\n",
      "\n",
      " Площадью: 190116.62102463993\n",
      " Объёмом: 7794781.462010236.\n"
     ]
    }
   ],
   "source": [
    "# Задача 3\n",
    "import math\n",
    "\n",
    "radius: float = float(input())\n",
    "square: float = 4 * (radius ** 2) * math.pi\n",
    "volume: float = (4 / 3) * (radius ** 3) * math.pi\n",
    "\n",
    "print(f\"Сфера радиусом {radius} обладает:\\n\\n Площадью: {square}\\n Объёмом: {volume}.\")"
   ]
  },
  {
   "cell_type": "code",
   "execution_count": 24,
   "id": "787b1b94-d098-4f7d-b2f8-92469a425a72",
   "metadata": {},
   "outputs": [
    {
     "name": "stdin",
     "output_type": "stream",
     "text": [
      " 1900\n"
     ]
    },
    {
     "name": "stdout",
     "output_type": "stream",
     "text": [
      "1900 не високосный\n"
     ]
    }
   ],
   "source": [
    "# Задача 4\n",
    "\n",
    "year: int = int(input())\n",
    "if year < 0:\n",
    "    print(\"Считается только положительный год\")\n",
    "\n",
    "is_leap_year = False\n",
    "if year % 400 == 0:\n",
    "    is_leap_year = True\n",
    "elif (year % 4 == 0 and year % 100 != 0):\n",
    "    is_leap_year = True\n",
    "\n",
    "if is_leap_year:\n",
    "    print(f\"{year} високосный\")\n",
    "else:\n",
    "    print(f\"{year} не високосный\")\n"
   ]
  },
  {
   "cell_type": "code",
   "execution_count": 26,
   "id": "48094164-9fef-4899-99af-31960894e564",
   "metadata": {},
   "outputs": [
    {
     "name": "stdin",
     "output_type": "stream",
     "text": [
      " 17\n"
     ]
    },
    {
     "name": "stdout",
     "output_type": "stream",
     "text": [
      "[2, 3, 5, 7, 11, 13, 17]\n"
     ]
    }
   ],
   "source": [
    "# Задача 5\n",
    "\n",
    "N: int = int(input())\n",
    "\n",
    "primes = [True] * (N + 1)\n",
    "for i in range(2, int(N ** 0.5) ):\n",
    "    if primes[i]:\n",
    "        for j in range(i ** 2, N + 1, i):\n",
    "            primes[j] = False\n",
    "\n",
    "prime_numbers = [i for i in range(2, N + 1) if primes[i]]\n",
    "print(prime_numbers)"
   ]
  },
  {
   "cell_type": "code",
   "execution_count": 28,
   "id": "f2c8a652-03b4-419c-881f-eb138b59a3cb",
   "metadata": {},
   "outputs": [
    {
     "name": "stdin",
     "output_type": "stream",
     "text": [
      " 100\n",
      " 1\n"
     ]
    },
    {
     "name": "stdout",
     "output_type": "stream",
     "text": [
      "110.0\n"
     ]
    }
   ],
   "source": [
    "# Задача 6\n",
    "X: int = int(input())\n",
    "Y: int = int(input())\n",
    "percent = 0.1\n",
    "\n",
    "def next_year():\n",
    "    global X\n",
    "    X += percent * X\n",
    "\n",
    "for _ in range(Y):\n",
    "    next_year()\n",
    "\n",
    "print(X)"
   ]
  },
  {
   "cell_type": "code",
   "execution_count": 35,
   "id": "623c404e-67fe-4b1a-a16f-9da7d5ac43ae",
   "metadata": {},
   "outputs": [
    {
     "name": "stdout",
     "output_type": "stream",
     "text": [
      "/home/vovan/University/PAK/Lection 1/.ipynb_checkpoints/Lesson1-checkpoint.ipynb\n",
      "/home/vovan/University/PAK/Lection 1/.ipynb_checkpoints/exercise-checkpoint.ipynb\n",
      "/home/vovan/University/PAK/Lection 1/exercise.ipynb\n",
      "/home/vovan/University/PAK/Lection 1/Lesson1.ipynb\n",
      "/home/vovan/University/PAK/Lection 1/laboratory work 1.ipynb\n"
     ]
    }
   ],
   "source": [
    "# Задача 7\n",
    "# Вывод всех файлов в папке и её подпапках с абсолютными путями.\n",
    "import os\n",
    "\n",
    "\n",
    "total_files_list = []\n",
    "def add_files_paths(path: str):\n",
    "    global total_files_list\n",
    "    if not os.path.isdir(path):\n",
    "        print(\"Указанный путь \\\"{path}\\\" не является файлом\")\n",
    "    path = os.path.abspath(path)\n",
    "\n",
    "    files_list = os.listdir(path=path)\n",
    "    for filename in files_list:\n",
    "        abs_file_path = os.path.join(path, filename)\n",
    "        if   os.path.isfile(abs_file_path):\n",
    "            total_files_list.append(abs_file_path)\n",
    "        elif os.path.isdir(abs_file_path):\n",
    "            add_files_paths(abs_file_path)\n",
    "        else:\n",
    "            pass\n",
    "\n",
    "path = \".\"\n",
    "add_files_paths(path)\n",
    "\n",
    "for file_path in total_files_list:\n",
    "    print(file_path)"
   ]
  }
 ],
 "metadata": {
  "kernelspec": {
   "display_name": "Python 3 (ipykernel)",
   "language": "python",
   "name": "python3"
  },
  "language_info": {
   "codemirror_mode": {
    "name": "ipython",
    "version": 3
   },
   "file_extension": ".py",
   "mimetype": "text/x-python",
   "name": "python",
   "nbconvert_exporter": "python",
   "pygments_lexer": "ipython3",
   "version": "3.10.12"
  }
 },
 "nbformat": 4,
 "nbformat_minor": 5
}
